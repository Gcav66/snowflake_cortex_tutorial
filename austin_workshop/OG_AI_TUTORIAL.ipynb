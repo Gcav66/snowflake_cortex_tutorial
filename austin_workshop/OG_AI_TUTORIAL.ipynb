{
 "metadata": {
  "kernelspec": {
   "display_name": "Streamlit Notebook",
   "name": "streamlit"
  },
  "lastEditStatus": {
   "notebookId": "4nf5fenxfuqjrficcxcu",
   "authorId": "3708137432866",
   "authorName": "USER",
   "authorEmail": "",
   "sessionId": "cc9b91c6-0b4c-4a7e-8d6e-a372bd0622f1",
   "lastEditTime": 1759922786313
  }
 },
 "nbformat_minor": 5,
 "nbformat": 4,
 "cells": [
  {
   "cell_type": "markdown",
   "id": "bfb30606-0ff0-42be-894c-bef007015ea4",
   "metadata": {
    "name": "cell18",
    "collapsed": false
   },
   "source": "Code Examples from Antonio Gulli's Free Book: [Hello, AI](https://docs.google.com/document/d/1GWShQ74DwZRUVs4e0yoS3rYmBxUVR-x4N_Xt5xl5dtE/edit?tab=t.kivct9twtv3c)"
  },
  {
   "cell_type": "code",
   "id": "c43c5080-e3f0-4125-93ad-e7444506ba32",
   "metadata": {
    "language": "python",
    "name": "cell17"
   },
   "outputs": [],
   "source": "",
   "execution_count": null
  },
  {
   "cell_type": "markdown",
   "id": "dcbb22e9-6e5e-4d7e-9c0c-c3439d00fcc9",
   "metadata": {
    "name": "cell16"
   },
   "source": ""
  },
  {
   "cell_type": "code",
   "id": "50176e25-a7f2-4539-8481-2e2e2bec97f6",
   "metadata": {
    "language": "python",
    "name": "cell11"
   },
   "outputs": [],
   "source": "# We define a function using the 'def' keyword.\n# This function takes one input, 'number'.\ndef classify_number(number):\n    \"\"\"\n    This function takes a number and returns a string label:\n    \"small\", \"medium\", or \"large\" based on hand-written rules.\n    \"\"\"\n    print(f\"Analyzing the number: {number}\")\n\n    # The 'if' statement checks a condition.\n    # If the number is less than 10, the indented code below runs.\n    if number < 10:\n        return \"small\"\n    \n    # 'elif' is short for \"else if\". It checks another condition.\n    elif number < 100:\n        return \"medium\"\n    \n    # 'else' runs if none of the above conditions were true.\n    else:\n        return \"large\"\n\n# Now, let's test our function.\nresult1 = classify_number(5)\nprint(f\"The result is: {result1}\")\n\nresult2 = classify_number(50)\nprint(f\"The result is: {result2}\")\n\nresult3 = classify_number(500)\nprint(f\"The result is: {result3}\")\n",
   "execution_count": null
  },
  {
   "cell_type": "code",
   "id": "8772a644-9fa6-43ae-b9f7-69bf0c3d1661",
   "metadata": {
    "language": "python",
    "name": "cell12",
    "codeCollapsed": false
   },
   "outputs": [],
   "source": "# Here is our unlabeled list of words.\nwords = [\"apple\", \"banana\", \"ant\", \"boat\", \"car\", \"cat\", \"anchor\"]\n\n# We will store our groups in a dictionary.\n# A dictionary stores key-value pairs, like {\"a\": [\"apple\", \"ant\"]}.\ngrouped_words = {}\n\n# A 'for' loop lets us check every word in our list.\nfor word in words:\n    # Get the first letter of the current word.\n    first_letter = word[0]\n    \n    # Check if we have already started a group for this letter.\n    if first_letter not in grouped_words:\n        # If not, create a new empty list for this letter.\n        grouped_words[first_letter] = []\n    \n    # Add the current word to the group for its first letter.\n    grouped_words[first_letter].append(word)\n\n# Print the organized groups.\nprint(\"Found the following groups:\")\nprint(grouped_words)\n",
   "execution_count": null
  },
  {
   "cell_type": "code",
   "id": "d761ae5c-d4fc-445a-892f-24606d36d05e",
   "metadata": {
    "language": "python",
    "name": "cell13",
    "codeCollapsed": false
   },
   "outputs": [],
   "source": "",
   "execution_count": null
  },
  {
   "cell_type": "code",
   "id": "d5f8e5ae-cd34-423b-bd91-c59892ebf6b2",
   "metadata": {
    "language": "python",
    "name": "cell14"
   },
   "outputs": [],
   "source": "",
   "execution_count": null
  },
  {
   "cell_type": "code",
   "id": "04c2a819-b967-4cb9-8720-96736cb978c8",
   "metadata": {
    "language": "python",
    "name": "cell15"
   },
   "outputs": [],
   "source": "",
   "execution_count": null
  },
  {
   "cell_type": "markdown",
   "id": "08e9f644-b87c-4fe7-ad81-1087cd8116b8",
   "metadata": {
    "name": "cell8",
    "collapsed": false
   },
   "source": "| Movie Title          | Action Score (1-10) | Comedy Score (1-10) | Sarah's Verdict |\n|----------------------|---------------------|---------------------|-----------------|\n| Mega Explosion Force | 9                   | 2                   | Liked           |\n| Super Guffaws 3      | 3                   | 8                   | Liked           |\n| Gritty Serious Drama | 2                   | 1                   | Disliked        |"
  },
  {
   "cell_type": "markdown",
   "id": "0fdb91eb-c108-4a8d-b320-a7bdcf55660c",
   "metadata": {
    "name": "cell10",
    "collapsed": false
   },
   "source": "# This Code Will Fail\n## The power of python is in the packages. \n### You need install two packages to run this code: scikit-learn and matplotib\nGoogle or ChatGPT how to do this "
  },
  {
   "cell_type": "code",
   "id": "abecabbb-5796-4508-ac5b-6a87e5cf4424",
   "metadata": {
    "language": "python",
    "name": "cell7"
   },
   "outputs": [],
   "source": "import numpy as np\nimport matplotlib.pyplot as plt\n\n# The Features (X): [Action Score, Comedy Score]\nX = np.array([\n    [9, 2], [3, 8], [8, 1], [4, 9],  # Liked movies\n    [2, 1], [1, 3], [4, 2], [3, 3]   # Disliked movies\n])\n\n# The Labels (y): 1 for \"Liked\", 0 for \"Disliked\"\ny = np.array([1, 1, 1, 1, 0, 0, 0, 0])\n\n# The new, unknown movie we want to classify\nnew_movie = np.array([7, 6])\n\n# --- Visualization ---\nplt.figure(figsize=(8, 6))\n# Plot the \"Liked\" movies in green\nplt.scatter(X[y == 1, 0], X[y == 1, 1], c='green', marker='o', label='Liked')\n\n# Plot the \"Disliked\" movies in red\nplt.scatter(X[y == 0, 0], X[y == 0, 1], c='red', marker='x', label='Disliked')\n\n# Plot the new movie as a blue star\nplt.scatter(new_movie[0], new_movie[1], c='blue', marker='*', s=150, label='New Movie')\n\nplt.title(\"Sarah's Movie Tastes\")\nplt.xlabel(\"Action Score\")\nplt.ylabel(\"Comedy Score\")\nplt.legend()\nplt.grid(True)\nplt.show()\n",
   "execution_count": null
  },
  {
   "cell_type": "code",
   "id": "60413610-f113-4c4f-ac3b-890e13646b13",
   "metadata": {
    "language": "python",
    "name": "cell6",
    "codeCollapsed": false
   },
   "outputs": [],
   "source": "# --- The Three Magic Lines for KNN ---\n\n# 1. Import the model we want to use.\nfrom sklearn.neighbors import KNeighborsClassifier\n\n# 2. Instantiate the model.\n# We choose K (the number of neighbors) to be 3.\nmodel = KNeighborsClassifier(n_neighbors=3)\n\n# 3. Fit the model to our data.\n# For KNN, this step simply memorizes the data's location.\nmodel.fit(X, y)\n\nprint(\"Training complete! The KNN model has stored the data.\")\n",
   "execution_count": null
  },
  {
   "cell_type": "code",
   "id": "c7ba593a-bdcd-4b5f-853e-4debcfc65b61",
   "metadata": {
    "language": "python",
    "name": "cell9",
    "codeCollapsed": false
   },
   "outputs": [],
   "source": "# Our new movie data, reshaped for Scikit-learn\nnew_movie = np.array([[7, 6]])\n\n# Use the trained model to make a prediction.\nprediction = model.predict(new_movie)\n\n# Let's print the result in a user-friendly way.\nif prediction[0] == 1:\n    print(\"Prediction: Sarah will LIKE this movie.\")\nelse:\n    print(\"Prediction: Sarah will DISLIKE this movie.\")\n",
   "execution_count": null
  },
  {
   "cell_type": "code",
   "id": "22b4fd3d-2676-445d-9b2c-4fbf2d0c0bbb",
   "metadata": {
    "language": "python",
    "name": "cell5"
   },
   "outputs": [],
   "source": "# (This code assumes you have run the previous examples)\nfrom matplotlib.colors import ListedColormap\n\n# Create a color map for the background\ncmap_light = ListedColormap(['#FFCCCC', '#CCFFCC']) # Red and Green background colors\n\n# Create a grid of points to classify\nx_min, x_max = X[:, 0].min() - 1, X[:, 0].max() + 1\ny_min, y_max = X[:, 1].min() - 1, X[:, 1].max() + 1\nxx, yy = np.meshgrid(np.arange(x_min, x_max, 0.1),\n                     np.arange(y_min, y_max, 0.1))\n\n# Get predictions for every point on the grid\nZ = model.predict(np.c_[xx.ravel(), yy.ravel()])\nZ = Z.reshape(xx.shape)\n\n# --- Plot the Decision Boundary ---\nplt.figure(figsize=(8, 6))\nplt.contourf(xx, yy, Z, cmap=cmap_light)\n\n# Plot the original data points on top\nplt.scatter(X[y == 1, 0], X[y == 1, 1], c='green', marker='o', label='Liked')\nplt.scatter(X[y == 0, 0], X[y == 0, 1], c='red', marker='x', label='Disliked')\nplt.scatter(new_movie[0,0], new_movie[0,1], c='blue', marker='*', s=150, label='New Movie')\nplt.title(\"KNN Decision Boundary (K=3)\")\nplt.xlabel(\"Action Score\")\nplt.ylabel(\"Comedy Score\")\nplt.legend()\nplt.grid(True)\nplt.show()\n",
   "execution_count": null
  },
  {
   "cell_type": "code",
   "id": "f467d999-2e74-4a1c-a6db-c6c2b9eb01de",
   "metadata": {
    "language": "python",
    "name": "cell4"
   },
   "outputs": [],
   "source": "",
   "execution_count": null
  },
  {
   "cell_type": "code",
   "id": "3775908f-ca36-4846-8f38-5adca39217f2",
   "metadata": {
    "language": "python",
    "name": "cell1"
   },
   "source": "# Import python packages\nimport streamlit as st\nimport pandas as pd\n\n# We can also use Snowpark for our analyses!\nfrom snowflake.snowpark.context import get_active_session\nsession = get_active_session()\n",
   "execution_count": null,
   "outputs": []
  },
  {
   "cell_type": "code",
   "id": "8d50cbf4-0c8d-4950-86cb-114990437ac9",
   "metadata": {
    "language": "sql",
    "name": "cell2"
   },
   "source": "-- Welcome to Snowflake Notebooks!\n-- Try out a SQL cell to generate some data.\nSELECT 'FRIDAY' as SNOWDAY, 0.2 as CHANCE_OF_SNOW\nUNION ALL\nSELECT 'SATURDAY',0.5\nUNION ALL \nSELECT 'SUNDAY', 0.9;",
   "execution_count": null,
   "outputs": []
  },
  {
   "cell_type": "code",
   "id": "c695373e-ac74-4b62-a1f1-08206cbd5c81",
   "metadata": {
    "language": "python",
    "name": "cell3"
   },
   "source": "# Then, we can use the python name to turn cell2 into a Pandas dataframe\nmy_df = cell2.to_pandas()\n\n# Chart the data\nst.subheader(\"Chance of SNOW ❄️\")\nst.line_chart(my_df, x='SNOWDAY', y='CHANCE_OF_SNOW')\n\n# Give it a go!\nst.subheader(\"Try it out yourself and show off your skills 🥇\")",
   "execution_count": null,
   "outputs": []
  }
 ]
}