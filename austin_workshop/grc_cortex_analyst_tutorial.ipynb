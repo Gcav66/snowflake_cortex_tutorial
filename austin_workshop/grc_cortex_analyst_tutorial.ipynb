{
 "metadata": {
  "kernelspec": {
   "display_name": "Python 3 (ipykernel)",
   "language": "python",
   "name": "python3"
  },
  "language_info": {
   "codemirror_mode": {
    "name": "ipython",
    "version": 3
   },
   "file_extension": ".py",
   "mimetype": "text/x-python",
   "name": "python",
   "nbconvert_exporter": "python",
   "pygments_lexer": "ipython3",
   "version": "3.10.0"
  },
  "lastEditStatus": {
   "notebookId": "h5u2ssmfgas7azwtuqlf",
   "authorId": "3708137432866",
   "authorName": "USER",
   "authorEmail": "",
   "sessionId": "49c22a5d-d2d7-45bd-a733-b44d608236f2",
   "lastEditTime": 1759864370695
  }
 },
 "nbformat_minor": 4,
 "nbformat": 4,
 "cells": [
  {
   "cell_type": "markdown",
   "metadata": {
    "name": "cell1"
   },
   "source": [
    "# Learn Snowflake Cortex AI - Python Tutorial\n",
    "\n",
    "## Welcome to Your First AI-Powered Data Analysis!\n",
    "\n",
    "This tutorial will teach you how to use Python to talk to Snowflake's AI system called \"Cortex\". You'll learn to:\n",
    "- Ask questions in plain English\n",
    "- Have AI write SQL code for you\n",
    "- Get answers from your data\n",
    "\n",
    "**IMPORTANT**: Type every single line of code by hand. Do not copy and paste. This helps your brain learn the patterns.\n",
    "\n",
    "Let's start!"
   ],
   "id": "ce110000-1111-2222-3333-ffffff000000"
  },
  {
   "cell_type": "markdown",
   "metadata": {
    "name": "cell2"
   },
   "source": [
    "## Step 1: Import the Tools We Need\n",
    "\n",
    "Before we can do anything, we need to tell Python which tools (called \"libraries\" or \"modules\") we want to use.\n",
    "\n",
    "Think of this like getting your toolbox ready before starting a project."
   ],
   "id": "ce110000-1111-2222-3333-ffffff000001"
  },
  {
   "cell_type": "code",
   "execution_count": null,
   "metadata": {
    "name": "cell3",
    "language": "python"
   },
   "outputs": [],
   "source": [
    "# The 'import' keyword tells Python we want to use a tool\n",
    "# 'json' helps us work with data that looks like {\"key\": \"value\"}\n",
    "import json\n",
    "\n",
    "# This is Snowflake's special internal tool for talking to their AI\n",
    "# The underscore (_) at the start means it's an internal tool\n",
    "import _snowflake\n",
    "\n",
    "# This gets us connected to our Snowflake database\n",
    "# 'from X import Y' means \"from toolbox X, just get tool Y\"\n",
    "from snowflake.snowpark.context import get_active_session"
   ],
   "id": "ce110000-1111-2222-3333-ffffff000002"
  },
  {
   "cell_type": "markdown",
   "metadata": {
    "name": "cell4"
   },
   "source": [
    "## Step 2: Set Up Our Configuration\n",
    "\n",
    "Now we need to set up some settings. These are like the \"address\" and \"phone number\" for Snowflake's AI system.\n",
    "\n",
    "In programming, we use ALL_CAPS names for settings that never change (called \"constants\")."
   ],
   "id": "ce110000-1111-2222-3333-ffffff000003"
  },
  {
   "cell_type": "code",
   "execution_count": null,
   "metadata": {
    "name": "cell5",
    "language": "python"
   },
   "outputs": [],
   "source": "# This is the \"web address\" where Snowflake's AI lives\n# Think of it like a URL, but for computer programs\nAPI_ENDPOINT = \"/api/v2/cortex/agent:run\"\n\n# This says \"wait up to 50 seconds for an answer\"\n# 50_000 milliseconds = 50 seconds (the underscores make big numbers easier to read)\nAPI_TIMEOUT_MS = 50_000\n\n# This tells Snowflake which AI brain to use - we're using Claude-4-Sonnet\nMODEL_NAME = \"claude-4-sonnet\"\n#MODEL_NAME = \"auto\"\n\n# This is the \"address\" of our search tool that looks through sales conversations\nCORTEX_SEARCH_SERVICES = \"sales_intelligence.data.sales_conversation_search\"\n\n# This is the \"address\" of our data model that knows about sales metrics\nSEMANTIC_MODELS = \"@sales_intelligence.data.models/sales_metrics_model_grc.yaml\"\n",
   "id": "ce110000-1111-2222-3333-ffffff000004"
  },
  {
   "cell_type": "markdown",
   "metadata": {
    "name": "cell6",
    "collapsed": false
   },
   "source": [
    "## Step 3: Connect to Snowflake\n",
    "\n",
    "Now we need to connect to our Snowflake database. Think of this like logging into your email - we need to establish a connection before we can do anything."
   ],
   "id": "ce110000-1111-2222-3333-ffffff000005"
  },
  {
   "cell_type": "code",
   "execution_count": null,
   "metadata": {
    "name": "cell7",
    "language": "python"
   },
   "outputs": [],
   "source": [
    "# This gets our current connection to Snowflake\n",
    "# 'session' is like a phone line - it stays open so we can keep talking to Snowflake\n",
    "session = get_active_session()"
   ],
   "id": "ce110000-1111-2222-3333-ffffff000006"
  },
  {
   "cell_type": "markdown",
   "metadata": {
    "name": "cell8",
    "collapsed": false
   },
   "source": [
    "## Step 4: Ask Your First Question\n",
    "\n",
    "Now comes the fun part! We're going to ask the AI a question in plain English, and it will:\n",
    "1. Understand what we want\n",
    "2. Write SQL code to get the data\n",
    "3. Give us an answer\n",
    "\n",
    "Let's start with a simple question about sales data."
   ],
   "id": "ce110000-1111-2222-3333-ffffff000007"
  },
  {
   "cell_type": "code",
   "execution_count": null,
   "metadata": {
    "name": "cell9",
    "language": "python"
   },
   "outputs": [],
   "source": [
    "# This is our question in plain English - no programming knowledge needed!\n",
    "# We store it in a variable called 'prompt' (a prompt is a question for AI)\n",
    "prompt = \"Create a weekly sales metrics summary for the last 8 weeks. Include total revenue and win rate.\""
   ],
   "id": "ce110000-1111-2222-3333-ffffff000008"
  },
  {
   "cell_type": "code",
   "id": "c653ceb2-ef63-4c6b-a736-fd837026d644",
   "metadata": {
    "language": "python",
    "name": "cell42"
   },
   "outputs": [],
   "source": "prompt = \"Show me the recent closed won deals\"",
   "execution_count": null
  },
  {
   "cell_type": "markdown",
   "metadata": {
    "name": "cell10",
    "collapsed": false
   },
   "source": [
    "## Step 5: Package Our Request\n",
    "\n",
    "Now we need to package our question with instructions for the AI. This is like addressing an envelope - we need to tell it who should answer, what tools they can use, and what our question is.\n",
    "\n",
    "We use something called a \"dictionary\" (the curly braces `{}`) to organize this information."
   ],
   "id": "ce110000-1111-2222-3333-ffffff000009"
  },
  {
   "cell_type": "code",
   "execution_count": null,
   "metadata": {
    "name": "cell11",
    "language": "python"
   },
   "outputs": [],
   "source": [
    "# This is our \"package\" of information for the AI\n",
    "# The curly braces {} create a dictionary - think of it like a filing cabinet with labeled folders\n",
    "payload = {\n",
    "    # Tell the AI which \"brain\" to use\n",
    "    \"model\": MODEL_NAME,\n",
    "    \n",
    "    # This is our conversation with the AI\n",
    "    # Square brackets [] create a list - like a grocery list\n",
    "    \"messages\": [\n",
    "        {\n",
    "            # \"role\": \"user\" means this message is from us (the human)\n",
    "            \"role\": \"user\", \n",
    "            # \"content\" is what we're actually saying\n",
    "            \"content\": [\n",
    "                {\n",
    "                    # \"type\": \"text\" means we're sending words, not pictures\n",
    "                    \"type\": \"text\", \n",
    "                    # \"text\" is our actual question\n",
    "                    \"text\": prompt\n",
    "                }\n",
    "            ]\n",
    "        }\n",
    "    ],\n",
    "    \n",
    "    # These are the \"tools\" the AI can use to answer our question\n",
    "    \"tools\": [\n",
    "        {\n",
    "            # This tool can write SQL code from our English question\n",
    "            \"tool_spec\": {\n",
    "                \"type\": \"cortex_analyst_text_to_sql\", \n",
    "                \"name\": \"analyst1\"\n",
    "            }\n",
    "        },\n",
    "        {\n",
    "            # This tool can search through conversations and documents\n",
    "            \"tool_spec\": {\n",
    "                \"type\": \"cortex_search\", \n",
    "                \"name\": \"search1\"\n",
    "            }\n",
    "        }\n",
    "    ],\n",
    "    \n",
    "    # These are the \"settings\" for each tool\n",
    "    \"tool_resources\": {\n",
    "        # Settings for the SQL-writing tool\n",
    "        \"analyst1\": {\n",
    "            # This tells the tool where to find information about our data structure\n",
    "            \"semantic_model_file\": SEMANTIC_MODELS\n",
    "        },\n",
    "        # Settings for the search tool\n",
    "        \"search1\": {\n",
    "            # Where to search\n",
    "            \"name\": CORTEX_SEARCH_SERVICES, \n",
    "            # Don't return more than 3 results\n",
    "            \"max_results\": 3, \n",
    "            # Use this column as the unique identifier\n",
    "            \"id_column\": \"conversation_id\"\n",
    "        }\n",
    "    }\n",
    "}"
   ],
   "id": "ce110000-1111-2222-3333-ffffff000010"
  },
  {
   "cell_type": "markdown",
   "metadata": {
    "name": "cell12",
    "collapsed": false
   },
   "source": [
    "## Step 6: Send Our Request to the AI\n",
    "\n",
    "Now we actually send our question to Snowflake's AI. This is like pressing \"Send\" on an email.\n",
    "\n",
    "We also need to check if something went wrong, like if the AI is busy or our internet is slow."
   ],
   "id": "ce110000-1111-2222-3333-ffffff000011"
  },
  {
   "cell_type": "code",
   "execution_count": null,
   "metadata": {
    "name": "cell13",
    "language": "python"
   },
   "outputs": [],
   "source": [
    "# Send our request to Snowflake's AI\n",
    "# This is like making a phone call - we dial the number (API_ENDPOINT) and talk (payload)\n",
    "resp = _snowflake.send_snow_api_request(\n",
    "    \"POST\",           # \"POST\" means we're sending data (like mailing a letter)\n",
    "    API_ENDPOINT,     # Where to send it\n",
    "    {},               # Headers (extra info) - empty for now\n",
    "    {},               # Parameters (settings) - empty for now  \n",
    "    payload,          # Our actual question and settings\n",
    "    None,             # Authentication (login info) - None means use current login\n",
    "    API_TIMEOUT_MS    # How long to wait for an answer\n",
    ")\n",
    "\n",
    "# Check if something went wrong\n",
    "# Status 200 means \"everything worked perfectly\"\n",
    "if resp.get(\"status\") != 200:\n",
    "    # If something went wrong, stop and show an error message\n",
    "    # The 'f' before the quotes lets us put variables inside the text\n",
    "    raise RuntimeError(f\"HTTP {resp.get('status')}: {resp.get('reason')} -> {resp}\")"
   ],
   "id": "ce110000-1111-2222-3333-ffffff000012"
  },
  {
   "cell_type": "code",
   "id": "67c5121f-db4b-4151-8033-98498b6dd9b7",
   "metadata": {
    "language": "python",
    "name": "cell43",
    "codeCollapsed": false
   },
   "outputs": [],
   "source": "resp",
   "execution_count": null
  },
  {
   "cell_type": "markdown",
   "metadata": {
    "name": "cell14",
    "collapsed": false
   },
   "source": [
    "## Step 7: Understand the AI's Response\n",
    "\n",
    "The AI sends us back a lot of information, but it's in a special format. We need to extract the parts we care about:\n",
    "1. The AI's explanation in English\n",
    "2. The SQL code it wrote\n",
    "\n",
    "Think of this like opening a package and sorting out what's inside."
   ],
   "id": "ce110000-1111-2222-3333-ffffff000013"
  },
  {
   "cell_type": "code",
   "execution_count": null,
   "metadata": {
    "name": "cell15",
    "language": "python"
   },
   "outputs": [],
   "source": [
    "# The AI sends back JSON data (looks like {\"key\": \"value\"})\n",
    "# We convert this from text into something Python can understand\n",
    "events = json.loads(resp[\"content\"])\n",
    "\n",
    "# Create empty variables to store what we find\n",
    "# Think of these like empty boxes we'll fill up\n",
    "assistant_text = \"\"  # This will hold the AI's explanation\n",
    "generated_sql = \"\"   # This will hold the SQL code the AI wrote\n",
    "\n",
    "# Look through all the pieces of the AI's response\n",
    "# 'for' means \"do this for each item in the list\"\n",
    "for ev in events:\n",
    "    # We only care about \"message.delta\" events (these contain the actual answer)\n",
    "    # '.get()' safely gets a value - if it doesn't exist, it returns None instead of crashing\n",
    "    if ev.get(\"event\") != \"message.delta\":\n",
    "        continue  # Skip this event and go to the next one\n",
    "    \n",
    "    # Look through the content of this event\n",
    "    # This is like opening nested boxes inside boxes\n",
    "    for item in ev.get(\"data\", {}).get(\"delta\", {}).get(\"content\", []):\n",
    "        # If this piece is text (the AI's explanation)\n",
    "        if item.get(\"type\") == \"text\":\n",
    "            # Add it to our explanation box\n",
    "            # The '+=' means \"add this to what we already have\"\n",
    "            assistant_text += item.get(\"text\", \"\")\n",
    "        \n",
    "        # If this piece is tool results (SQL code and data)\n",
    "        elif item.get(\"type\") == \"tool_results\":\n",
    "            # Look through each result from the tools\n",
    "            for r in item.get(\"tool_results\", {}).get(\"content\", []):\n",
    "                # If this result is JSON data\n",
    "                if r.get(\"type\") == \"json\":\n",
    "                    # Get the JSON content\n",
    "                    j = r.get(\"json\", {})\n",
    "                    # Add any text explanation to our explanation box\n",
    "                    assistant_text += j.get(\"text\", \"\")\n",
    "                    # If there's SQL code, save it\n",
    "                    if j.get(\"sql\"):\n",
    "                        generated_sql = j[\"sql\"]"
   ],
   "id": "ce110000-1111-2222-3333-ffffff000014"
  },
  {
   "cell_type": "markdown",
   "metadata": {
    "name": "cell16",
    "collapsed": false
   },
   "source": [
    "## Step 8: Clean Up the Text\n",
    "\n",
    "Sometimes the AI includes special symbols that don't look nice. We'll clean those up to make the text more readable."
   ],
   "id": "ce110000-1111-2222-3333-ffffff000015"
  },
  {
   "cell_type": "code",
   "execution_count": null,
   "metadata": {
    "name": "cell17",
    "language": "python"
   },
   "outputs": [],
   "source": [
    "# Replace weird symbols with normal brackets\n",
    "# The AI sometimes uses special Unicode symbols that look strange\n",
    "# '.replace()' finds text and changes it to something else\n",
    "assistant_text = assistant_text.replace(\"【†\", \"[\").replace(\"†】\", \"]\")"
   ],
   "id": "ce110000-1111-2222-3333-ffffff000016"
  },
  {
   "cell_type": "markdown",
   "metadata": {
    "name": "cell18",
    "collapsed": false
   },
   "source": [
    "## Step 9: Show the Results\n",
    "\n",
    "Now let's see what the AI found for us! We'll print out:\n",
    "1. The AI's explanation in English\n",
    "2. The SQL code it wrote"
   ],
   "id": "ce110000-1111-2222-3333-ffffff000017"
  },
  {
   "cell_type": "code",
   "execution_count": null,
   "metadata": {
    "name": "cell19",
    "language": "python"
   },
   "outputs": [],
   "source": [
    "# Print the AI's explanation\n",
    "# '\\n' means \"start a new line\" - like pressing Enter\n",
    "print(\"\\n--- Assistant Text ---\\n\", assistant_text or \"(none)\")\n",
    "\n",
    "# Print the SQL code the AI wrote\n",
    "print(\"\\n--- Generated SQL ---\\n\", generated_sql or \"(none)\")"
   ],
   "id": "ce110000-1111-2222-3333-ffffff000018"
  },
  {
   "cell_type": "markdown",
   "metadata": {
    "name": "cell20",
    "collapsed": false
   },
   "source": [
    "## Step 10: Run the SQL and See Our Data\n",
    "\n",
    "If the AI wrote SQL code for us, let's run it and see what data we get back!"
   ],
   "id": "ce110000-1111-2222-3333-ffffff000019"
  },
  {
   "cell_type": "code",
   "execution_count": null,
   "metadata": {
    "name": "cell21",
    "language": "python"
   },
   "outputs": [],
   "source": [
    "# Only run the SQL if we actually got some\n",
    "# 'if' means \"only do this when the condition is true\"\n",
    "if generated_sql:\n",
    "    # Clean up the SQL by removing semicolons (;) that might cause problems\n",
    "    # Then run it and convert the results to a pandas DataFrame (like a spreadsheet)\n",
    "    df = session.sql(generated_sql.replace(\";\", \"\")).to_pandas()\n",
    "    \n",
    "    # Show the first few rows of our results\n",
    "    # '.head()' means \"show me the beginning\"\n",
    "    print(\"\\n--- Query Results (first few rows) ---\\n\", df.head())"
   ],
   "id": "ce110000-1111-2222-3333-ffffff000020"
  },
  {
   "cell_type": "markdown",
   "metadata": {
    "name": "cell22",
    "collapsed": false
   },
   "source": [
    "## Step 11: Try Another Question\n",
    "\n",
    "Great job! Now let's try a different question to see how the AI handles various types of requests.\n",
    "\n",
    "This time we'll ask about revenue by week - a common business question."
   ],
   "id": "ce110000-1111-2222-3333-ffffff000021"
  },
  {
   "cell_type": "code",
   "execution_count": null,
   "metadata": {
    "name": "cell23",
    "language": "python"
   },
   "outputs": [],
   "source": [
    "# Let's ask a different question\n",
    "prompt = \"Total revenue for all Closed Won Deals by week\""
   ],
   "id": "ce110000-1111-2222-3333-ffffff000022"
  },
  {
   "cell_type": "markdown",
   "metadata": {
    "name": "cell24",
    "collapsed": false
   },
   "source": [
    "## Step 12: Package the Second Request\n",
    "\n",
    "We'll create the same type of package as before, but with our new question."
   ],
   "id": "ce110000-1111-2222-3333-ffffff000023"
  },
  {
   "cell_type": "code",
   "execution_count": null,
   "metadata": {
    "name": "cell25",
    "language": "python"
   },
   "outputs": [],
   "source": [
    "# Create the same type of package, but with our new question\n",
    "payload = {\n",
    "    \"model\": MODEL_NAME,\n",
    "    \"messages\": [\n",
    "        {\n",
    "            \"role\": \"user\", \n",
    "            \"content\": [\n",
    "                {\n",
    "                    \"type\": \"text\", \n",
    "                    \"text\": prompt\n",
    "                }\n",
    "            ]\n",
    "        }\n",
    "    ],\n",
    "    \"tools\": [\n",
    "        {\n",
    "            \"tool_spec\": {\n",
    "                \"type\": \"cortex_analyst_text_to_sql\", \n",
    "                \"name\": \"analyst1\"\n",
    "            }\n",
    "        },\n",
    "        {\n",
    "            \"tool_spec\": {\n",
    "                \"type\": \"cortex_search\", \n",
    "                \"name\": \"search1\"\n",
    "            }\n",
    "        }\n",
    "    ],\n",
    "    \"tool_resources\": {\n",
    "        \"analyst1\": {\n",
    "            \"semantic_model_file\": SEMANTIC_MODELS\n",
    "        },\n",
    "        \"search1\": {\n",
    "            \"name\": CORTEX_SEARCH_SERVICES, \n",
    "            \"max_results\": 3, \n",
    "            \"id_column\": \"conversation_id\"\n",
    "        }\n",
    "    }\n",
    "}"
   ],
   "id": "ce110000-1111-2222-3333-ffffff000024"
  },
  {
   "cell_type": "markdown",
   "metadata": {
    "name": "cell26",
    "collapsed": false
   },
   "source": [
    "## Step 13: Complete the Second Request\n",
    "\n",
    "Now we'll send our second question and process the response - same steps as before!"
   ],
   "id": "ce110000-1111-2222-3333-ffffff000025"
  },
  {
   "cell_type": "code",
   "execution_count": null,
   "metadata": {
    "name": "cell27",
    "language": "python"
   },
   "outputs": [],
   "source": [
    "# Send the second request\n",
    "resp = _snowflake.send_snow_api_request(\n",
    "    \"POST\", \n",
    "    API_ENDPOINT, \n",
    "    {}, \n",
    "    {}, \n",
    "    payload, \n",
    "    None, \n",
    "    API_TIMEOUT_MS\n",
    ")\n",
    "\n",
    "# Check for errors\n",
    "if resp.get(\"status\") != 200:\n",
    "    raise RuntimeError(f\"HTTP {resp.get('status')}: {resp.get('reason')} -> {resp}\")\n",
    "\n",
    "# Parse the response\n",
    "events = json.loads(resp[\"content\"])\n",
    "\n",
    "# Reset our variables for the new response\n",
    "assistant_text = \"\"\n",
    "generated_sql = \"\"\n",
    "\n",
    "# Process the events (same logic as before)\n",
    "for ev in events:\n",
    "    if ev.get(\"event\") != \"message.delta\":\n",
    "        continue\n",
    "    for item in ev.get(\"data\", {}).get(\"delta\", {}).get(\"content\", []):\n",
    "        if item.get(\"type\") == \"text\":\n",
    "            assistant_text += item.get(\"text\", \"\")\n",
    "        elif item.get(\"type\") == \"tool_results\":\n",
    "            for r in item.get(\"tool_results\", {}).get(\"content\", []):\n",
    "                if r.get(\"type\") == \"json\":\n",
    "                    j = r.get(\"json\", {})\n",
    "                    assistant_text += j.get(\"text\", \"\")\n",
    "                    if j.get(\"sql\"):\n",
    "                        generated_sql = j[\"sql\"]\n",
    "\n",
    "# Clean up the text\n",
    "assistant_text = assistant_text.replace(\"【†\", \"[\").replace(\"†】\", \"]\")\n",
    "\n",
    "# Show the results\n",
    "print(\"\\n--- Assistant Text ---\\n\", assistant_text or \"(none)\")\n",
    "print(\"\\n--- Generated SQL ---\\n\", generated_sql or \"(none)\")\n",
    "\n",
    "# Run the SQL if we got some\n",
    "if generated_sql:\n",
    "    df = session.sql(generated_sql.replace(\";\", \"\")).to_pandas()\n",
    "    print(\"\\n--- Query Results (first few rows) ---\\n\", df.head())"
   ],
   "id": "ce110000-1111-2222-3333-ffffff000026"
  }
 ]
}